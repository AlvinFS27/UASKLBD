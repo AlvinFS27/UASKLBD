Saving to: ‘recsys.zip’

recsys.zip          100%[===================>]  14.60M  --.-KB/s    in 0.1s    

2023-01-07 04:42:12 (131 MB/s) - ‘recsys.zip’ saved [15312323/15312323]

Archive:  recsys.zip
   creating: recsys/
  inflating: recsys/datasets.py      
  inflating: recsys/preprocessing.py  
  inflating: recsys/utils.py         
  inflating: recsys/requirements.txt  
   creating: recsys/.vscode/
  inflating: recsys/.vscode/settings.json  
   creating: recsys/__pycache__/
  inflating: recsys/__pycache__/datasets.cpython-36.pyc  
  inflating: recsys/__pycache__/datasets.cpython-37.pyc  
  inflating: recsys/__pycache__/utils.cpython-36.pyc  
  inflating: recsys/__pycache__/preprocessing.cpython-37.pyc  
  inflating: recsys/__pycache__/datasets.cpython-38.pyc  
  inflating: recsys/__pycache__/preprocessing.cpython-36.pyc  
  inflating: recsys/__pycache__/preprocessing.cpython-38.pyc  
   creating: recsys/memories/
  inflating: recsys/memories/ItemToItem.py  
  inflating: recsys/memories/UserToUser.py  
   creating: recsys/memories/__pycache__/
  inflating: recsys/memories/__pycache__/UserToUser.cpython-36.pyc  
  inflating: recsys/memories/__pycache__/UserToUser.cpython-37.pyc  
  inflating: recsys/memories/__pycache__/ItemToItem.cpython-37.pyc  
  inflating: recsys/memories/__pycache__/user2user.cpython-36.pyc  
  inflating: recsys/memories/__pycache__/ItemToItem.cpython-36.pyc  
   creating: recsys/models/
  inflating: recsys/models/SVD.py    
  inflating: recsys/models/MatrixFactorization.py  
  inflating: recsys/models/ExplainableMF.py  
  inflating: recsys/models/NonnegativeMF.py  
   creating: recsys/models/__pycache__/
  inflating: recsys/models/__pycache__/SVD.cpython-36.pyc  
  inflating: recsys/models/__pycache__/MatrixFactorization.cpython-37.pyc  
  inflating: recsys/models/__pycache__/ExplainableMF.cpython-36.pyc  
  inflating: recsys/models/__pycache__/ExplainableMF.cpython-37.pyc  
  inflating: recsys/models/__pycache__/MatrixFactorization.cpython-36.pyc  
   creating: recsys/metrics/
  inflating: recsys/metrics/EvaluationMetrics.py  
   creating: recsys/img/
  inflating: recsys/img/MF-and-NNMF.png  
  inflating: recsys/img/svd.png      
  inflating: recsys/img/MF.png       
   creating: recsys/predictions/
   creating: recsys/predictions/item2item/
   creating: recsys/weights/
   creating: recsys/weights/item2item/
   creating: recsys/weights/item2item/ml1m/
  inflating: recsys/weights/item2item/ml1m/similarities.npy  
  inflating: recsys/weights/item2item/ml1m/neighbors.npy  
   creating: recsys/weights/item2item/ml100k/
  inflating: recsys/weights/item2item/ml100k/similarities.npy  
  inflating: recsys/weights/item2item/ml100k/neighbors.npy  
Requirements
matplotlib==3.2.2
numpy==1.18.1
pandas==1.0.5
python==3.6.10
scikit-learn==0.23.1
scipy==1.5.0
[2]
0s
from recsys.datasets import mlLastedSmall

import matplotlib.pyplot as plt
import pandas as pd
import zipfile
import urllib.request
import sys
import os

[ ]
0s
ratings, movies = mlLastedSmall.load()
Data visualisation
[ ]
0s
ratings.head()
[ ]
0s
movies.head()
Histogram of ratings
[ ]
0s
ratings.groupby('rating').size().plot(kind='bar')
Ratings range from 0.5 to 5.0, with a step of 0.5. The above histogram presents the repartition of ratings in the dataset. the two most commun ratings are 4.0 and 3.0 and the less commun ratings are 0.5 and 1.5

Average ratings of movies
[ ]
0s
movie_means = ratings.join(movies['title'], on='itemid').groupby('title').rating.mean()
movie_means[:50].plot(kind='bar', grid=True, figsize=(16,6), title="mean ratings of 50 movies")
30 most rated movies vs. 30 less rated movies
[ ]
0s
fig, (ax1, ax2) = plt.subplots(ncols=2, figsize=(16,4), sharey=True)
movie_means.nlargest(30).plot(kind='bar', ax=ax1, title="Top 30 movies in data set")
movie_means.nsmallest(30).plot(kind='bar', ax=ax2, title="Bottom 30 movies in data set")
Throughout this repository, we will work with this movielen lasted small data to build collaborative filtering recommender systems.

Let's start by implementing the user-based collaborative filtering algorithm.

The idea behind the user-based collaborative filtering algorithm is the following :

if two users X and Y have a similar behavior on a set of items, then X will most likely have a similar behavior > to Y on an item he did not interact with.

Click here to go to the User-based Collaborative Filtering implementation.


